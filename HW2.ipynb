{
  "nbformat": 4,
  "nbformat_minor": 0,
  "metadata": {
    "colab": {
      "name": "HW2.ipynb",
      "provenance": [],
      "collapsed_sections": [],
      "mount_file_id": "1v5YcU9AbkzKR-2Mxgo0N1pV1lrufEq_T",
      "authorship_tag": "ABX9TyOsCEdZwQ4wIxsVriC0wov5",
      "include_colab_link": true
    },
    "kernelspec": {
      "name": "python3",
      "display_name": "Python 3"
    },
    "language_info": {
      "name": "python"
    },
    "accelerator": "GPU"
  },
  "cells": [
    {
      "cell_type": "markdown",
      "metadata": {
        "id": "view-in-github",
        "colab_type": "text"
      },
      "source": [
        "<a href=\"https://colab.research.google.com/github/linhgiangece/Linear-Regression/blob/main/HW2.ipynb\" target=\"_parent\"><img src=\"https://colab.research.google.com/assets/colab-badge.svg\" alt=\"Open In Colab\"/></a>"
      ]
    },
    {
      "cell_type": "markdown",
      "source": [
        "# I. Cải thiện ảnh"
      ],
      "metadata": {
        "id": "ggs_MJ-mwwcA"
      }
    },
    {
      "cell_type": "markdown",
      "source": [
        "# 1. Negative Image"
      ],
      "metadata": {
        "id": "Y2Ia0CiqhBKp"
      }
    },
    {
      "cell_type": "code",
      "source": [
        "from google.colab import drive\n",
        "\n",
        "drive.mount('/content/drive')"
      ],
      "metadata": {
        "colab": {
          "base_uri": "https://localhost:8080/"
        },
        "id": "D9ydvpmeV43I",
        "outputId": "0c0086b7-2b9a-41b5-fca1-823e51c40e2a"
      },
      "execution_count": 2,
      "outputs": [
        {
          "output_type": "stream",
          "name": "stdout",
          "text": [
            "Drive already mounted at /content/drive; to attempt to forcibly remount, call drive.mount(\"/content/drive\", force_remount=True).\n"
          ]
        }
      ]
    },
    {
      "cell_type": "code",
      "source": [
        "pip install opencv-python\n"
      ],
      "metadata": {
        "colab": {
          "base_uri": "https://localhost:8080/"
        },
        "id": "Xxp2n8u9a_yg",
        "outputId": "ef502bff-3cc9-4fa9-8988-eb430a9dcab9"
      },
      "execution_count": 3,
      "outputs": [
        {
          "output_type": "stream",
          "name": "stdout",
          "text": [
            "Requirement already satisfied: opencv-python in /usr/local/lib/python3.7/dist-packages (4.1.2.30)\n",
            "Requirement already satisfied: numpy>=1.14.5 in /usr/local/lib/python3.7/dist-packages (from opencv-python) (1.21.5)\n"
          ]
        }
      ]
    },
    {
      "cell_type": "code",
      "execution_count": 4,
      "metadata": {
        "id": "5KXmMSzPQ8vb"
      },
      "outputs": [],
      "source": [
        "import cv2 as cv\n",
        "import matplotlib.pyplot as plt"
      ]
    },
    {
      "cell_type": "markdown",
      "source": [
        "# Mục mới"
      ],
      "metadata": {
        "id": "swq9BTCuS6gH"
      }
    },
    {
      "cell_type": "code",
      "source": [
        "def negative_image(r):\n",
        "  return 255-r"
      ],
      "metadata": {
        "id": "tdp0bCruRCdo"
      },
      "execution_count": 5,
      "outputs": []
    },
    {
      "cell_type": "code",
      "source": [
        " def show_negative_image():\n",
        "    fig = plt.figure(figsize=(10, 5))\n",
        "    ax1, ax2 = fig.subplots(1, 2)\n",
        "\n",
        "    img = cv.imread('negative_image.tif')\n",
        "    ax1.imshow(img, cmap='gray')\n",
        "    ax1.set_title(\"Original image\")\n",
        "    y = negative_image(img)\n",
        "    ax2.imshow(y, cmap='gray')\n",
        "    ax2.set_title(\"Negative image\")\n",
        "    plt.show()\n"
      ],
      "metadata": {
        "id": "oaCMSeI8SSYb"
      },
      "execution_count": 6,
      "outputs": []
    },
    {
      "cell_type": "code",
      "source": [
        "if __name__ == '__main__':\n",
        "   show_negative_image()"
      ],
      "metadata": {
        "colab": {
          "base_uri": "https://localhost:8080/",
          "height": 635
        },
        "id": "ylVjg8seYYQU",
        "outputId": "37517095-1213-484f-9dab-2bed711b7fb4"
      },
      "execution_count": 7,
      "outputs": [
        {
          "output_type": "error",
          "ename": "TypeError",
          "evalue": "ignored",
          "traceback": [
            "\u001b[0;31m---------------------------------------------------------------------------\u001b[0m",
            "\u001b[0;31mTypeError\u001b[0m                                 Traceback (most recent call last)",
            "\u001b[0;32m<ipython-input-7-0d745af3e94e>\u001b[0m in \u001b[0;36m<module>\u001b[0;34m()\u001b[0m\n\u001b[1;32m      1\u001b[0m \u001b[0;32mif\u001b[0m \u001b[0m__name__\u001b[0m \u001b[0;34m==\u001b[0m \u001b[0;34m'__main__'\u001b[0m\u001b[0;34m:\u001b[0m\u001b[0;34m\u001b[0m\u001b[0;34m\u001b[0m\u001b[0m\n\u001b[0;32m----> 2\u001b[0;31m    \u001b[0mshow_negative_image\u001b[0m\u001b[0;34m(\u001b[0m\u001b[0;34m)\u001b[0m\u001b[0;34m\u001b[0m\u001b[0;34m\u001b[0m\u001b[0m\n\u001b[0m",
            "\u001b[0;32m<ipython-input-6-caab9969819d>\u001b[0m in \u001b[0;36mshow_negative_image\u001b[0;34m()\u001b[0m\n\u001b[1;32m      4\u001b[0m \u001b[0;34m\u001b[0m\u001b[0m\n\u001b[1;32m      5\u001b[0m    \u001b[0mimg\u001b[0m \u001b[0;34m=\u001b[0m \u001b[0mcv\u001b[0m\u001b[0;34m.\u001b[0m\u001b[0mimread\u001b[0m\u001b[0;34m(\u001b[0m\u001b[0;34m'negative_image.tif'\u001b[0m\u001b[0;34m)\u001b[0m\u001b[0;34m\u001b[0m\u001b[0;34m\u001b[0m\u001b[0m\n\u001b[0;32m----> 6\u001b[0;31m    \u001b[0max1\u001b[0m\u001b[0;34m.\u001b[0m\u001b[0mimshow\u001b[0m\u001b[0;34m(\u001b[0m\u001b[0mimg\u001b[0m\u001b[0;34m,\u001b[0m \u001b[0mcmap\u001b[0m\u001b[0;34m=\u001b[0m\u001b[0;34m'gray'\u001b[0m\u001b[0;34m)\u001b[0m\u001b[0;34m\u001b[0m\u001b[0;34m\u001b[0m\u001b[0m\n\u001b[0m\u001b[1;32m      7\u001b[0m    \u001b[0max1\u001b[0m\u001b[0;34m.\u001b[0m\u001b[0mset_title\u001b[0m\u001b[0;34m(\u001b[0m\u001b[0;34m\"Original image\"\u001b[0m\u001b[0;34m)\u001b[0m\u001b[0;34m\u001b[0m\u001b[0;34m\u001b[0m\u001b[0m\n\u001b[1;32m      8\u001b[0m    \u001b[0my\u001b[0m \u001b[0;34m=\u001b[0m \u001b[0mnegative_image\u001b[0m\u001b[0;34m(\u001b[0m\u001b[0mimg\u001b[0m\u001b[0;34m)\u001b[0m\u001b[0;34m\u001b[0m\u001b[0;34m\u001b[0m\u001b[0m\n",
            "\u001b[0;32m/usr/local/lib/python3.7/dist-packages/matplotlib/__init__.py\u001b[0m in \u001b[0;36minner\u001b[0;34m(ax, data, *args, **kwargs)\u001b[0m\n\u001b[1;32m   1563\u001b[0m     \u001b[0;32mdef\u001b[0m \u001b[0minner\u001b[0m\u001b[0;34m(\u001b[0m\u001b[0max\u001b[0m\u001b[0;34m,\u001b[0m \u001b[0;34m*\u001b[0m\u001b[0margs\u001b[0m\u001b[0;34m,\u001b[0m \u001b[0mdata\u001b[0m\u001b[0;34m=\u001b[0m\u001b[0;32mNone\u001b[0m\u001b[0;34m,\u001b[0m \u001b[0;34m**\u001b[0m\u001b[0mkwargs\u001b[0m\u001b[0;34m)\u001b[0m\u001b[0;34m:\u001b[0m\u001b[0;34m\u001b[0m\u001b[0;34m\u001b[0m\u001b[0m\n\u001b[1;32m   1564\u001b[0m         \u001b[0;32mif\u001b[0m \u001b[0mdata\u001b[0m \u001b[0;32mis\u001b[0m \u001b[0;32mNone\u001b[0m\u001b[0;34m:\u001b[0m\u001b[0;34m\u001b[0m\u001b[0;34m\u001b[0m\u001b[0m\n\u001b[0;32m-> 1565\u001b[0;31m             \u001b[0;32mreturn\u001b[0m \u001b[0mfunc\u001b[0m\u001b[0;34m(\u001b[0m\u001b[0max\u001b[0m\u001b[0;34m,\u001b[0m \u001b[0;34m*\u001b[0m\u001b[0mmap\u001b[0m\u001b[0;34m(\u001b[0m\u001b[0msanitize_sequence\u001b[0m\u001b[0;34m,\u001b[0m \u001b[0margs\u001b[0m\u001b[0;34m)\u001b[0m\u001b[0;34m,\u001b[0m \u001b[0;34m**\u001b[0m\u001b[0mkwargs\u001b[0m\u001b[0;34m)\u001b[0m\u001b[0;34m\u001b[0m\u001b[0;34m\u001b[0m\u001b[0m\n\u001b[0m\u001b[1;32m   1566\u001b[0m \u001b[0;34m\u001b[0m\u001b[0m\n\u001b[1;32m   1567\u001b[0m         \u001b[0mbound\u001b[0m \u001b[0;34m=\u001b[0m \u001b[0mnew_sig\u001b[0m\u001b[0;34m.\u001b[0m\u001b[0mbind\u001b[0m\u001b[0;34m(\u001b[0m\u001b[0max\u001b[0m\u001b[0;34m,\u001b[0m \u001b[0;34m*\u001b[0m\u001b[0margs\u001b[0m\u001b[0;34m,\u001b[0m \u001b[0;34m**\u001b[0m\u001b[0mkwargs\u001b[0m\u001b[0;34m)\u001b[0m\u001b[0;34m\u001b[0m\u001b[0;34m\u001b[0m\u001b[0m\n",
            "\u001b[0;32m/usr/local/lib/python3.7/dist-packages/matplotlib/cbook/deprecation.py\u001b[0m in \u001b[0;36mwrapper\u001b[0;34m(*args, **kwargs)\u001b[0m\n\u001b[1;32m    356\u001b[0m                 \u001b[0;34mf\"%(removal)s.  If any parameter follows {name!r}, they \"\u001b[0m\u001b[0;34m\u001b[0m\u001b[0;34m\u001b[0m\u001b[0m\n\u001b[1;32m    357\u001b[0m                 f\"should be pass as keyword, not positionally.\")\n\u001b[0;32m--> 358\u001b[0;31m         \u001b[0;32mreturn\u001b[0m \u001b[0mfunc\u001b[0m\u001b[0;34m(\u001b[0m\u001b[0;34m*\u001b[0m\u001b[0margs\u001b[0m\u001b[0;34m,\u001b[0m \u001b[0;34m**\u001b[0m\u001b[0mkwargs\u001b[0m\u001b[0;34m)\u001b[0m\u001b[0;34m\u001b[0m\u001b[0;34m\u001b[0m\u001b[0m\n\u001b[0m\u001b[1;32m    359\u001b[0m \u001b[0;34m\u001b[0m\u001b[0m\n\u001b[1;32m    360\u001b[0m     \u001b[0;32mreturn\u001b[0m \u001b[0mwrapper\u001b[0m\u001b[0;34m\u001b[0m\u001b[0;34m\u001b[0m\u001b[0m\n",
            "\u001b[0;32m/usr/local/lib/python3.7/dist-packages/matplotlib/cbook/deprecation.py\u001b[0m in \u001b[0;36mwrapper\u001b[0;34m(*args, **kwargs)\u001b[0m\n\u001b[1;32m    356\u001b[0m                 \u001b[0;34mf\"%(removal)s.  If any parameter follows {name!r}, they \"\u001b[0m\u001b[0;34m\u001b[0m\u001b[0;34m\u001b[0m\u001b[0m\n\u001b[1;32m    357\u001b[0m                 f\"should be pass as keyword, not positionally.\")\n\u001b[0;32m--> 358\u001b[0;31m         \u001b[0;32mreturn\u001b[0m \u001b[0mfunc\u001b[0m\u001b[0;34m(\u001b[0m\u001b[0;34m*\u001b[0m\u001b[0margs\u001b[0m\u001b[0;34m,\u001b[0m \u001b[0;34m**\u001b[0m\u001b[0mkwargs\u001b[0m\u001b[0;34m)\u001b[0m\u001b[0;34m\u001b[0m\u001b[0;34m\u001b[0m\u001b[0m\n\u001b[0m\u001b[1;32m    359\u001b[0m \u001b[0;34m\u001b[0m\u001b[0m\n\u001b[1;32m    360\u001b[0m     \u001b[0;32mreturn\u001b[0m \u001b[0mwrapper\u001b[0m\u001b[0;34m\u001b[0m\u001b[0;34m\u001b[0m\u001b[0m\n",
            "\u001b[0;32m/usr/local/lib/python3.7/dist-packages/matplotlib/axes/_axes.py\u001b[0m in \u001b[0;36mimshow\u001b[0;34m(self, X, cmap, norm, aspect, interpolation, alpha, vmin, vmax, origin, extent, shape, filternorm, filterrad, imlim, resample, url, **kwargs)\u001b[0m\n\u001b[1;32m   5624\u001b[0m                               resample=resample, **kwargs)\n\u001b[1;32m   5625\u001b[0m \u001b[0;34m\u001b[0m\u001b[0m\n\u001b[0;32m-> 5626\u001b[0;31m         \u001b[0mim\u001b[0m\u001b[0;34m.\u001b[0m\u001b[0mset_data\u001b[0m\u001b[0;34m(\u001b[0m\u001b[0mX\u001b[0m\u001b[0;34m)\u001b[0m\u001b[0;34m\u001b[0m\u001b[0;34m\u001b[0m\u001b[0m\n\u001b[0m\u001b[1;32m   5627\u001b[0m         \u001b[0mim\u001b[0m\u001b[0;34m.\u001b[0m\u001b[0mset_alpha\u001b[0m\u001b[0;34m(\u001b[0m\u001b[0malpha\u001b[0m\u001b[0;34m)\u001b[0m\u001b[0;34m\u001b[0m\u001b[0;34m\u001b[0m\u001b[0m\n\u001b[1;32m   5628\u001b[0m         \u001b[0;32mif\u001b[0m \u001b[0mim\u001b[0m\u001b[0;34m.\u001b[0m\u001b[0mget_clip_path\u001b[0m\u001b[0;34m(\u001b[0m\u001b[0;34m)\u001b[0m \u001b[0;32mis\u001b[0m \u001b[0;32mNone\u001b[0m\u001b[0;34m:\u001b[0m\u001b[0;34m\u001b[0m\u001b[0;34m\u001b[0m\u001b[0m\n",
            "\u001b[0;32m/usr/local/lib/python3.7/dist-packages/matplotlib/image.py\u001b[0m in \u001b[0;36mset_data\u001b[0;34m(self, A)\u001b[0m\n\u001b[1;32m    692\u001b[0m                 not np.can_cast(self._A.dtype, float, \"same_kind\")):\n\u001b[1;32m    693\u001b[0m             raise TypeError(\"Image data of dtype {} cannot be converted to \"\n\u001b[0;32m--> 694\u001b[0;31m                             \"float\".format(self._A.dtype))\n\u001b[0m\u001b[1;32m    695\u001b[0m \u001b[0;34m\u001b[0m\u001b[0m\n\u001b[1;32m    696\u001b[0m         if not (self._A.ndim == 2\n",
            "\u001b[0;31mTypeError\u001b[0m: Image data of dtype object cannot be converted to float"
          ]
        },
        {
          "output_type": "display_data",
          "data": {
            "text/plain": [
              "<Figure size 720x360 with 2 Axes>"
            ],
            "image/png": "[encoded data removed]"
          },
          "metadata": {
            "needs_background": "light"
          }
        }
      ]
    },
    {
      "cell_type": "markdown",
      "source": [
        "# 2. Sử dụng hàm logarit"
      ],
      "metadata": {
        "id": "9yqSFpYvhoNP"
      }
    },
    {
      "cell_type": "code",
      "source": [
        "def Chuyen_doi_logarit(r, c):\n",
        "    return float(c) * cv.log(1.0 + r)"
      ],
      "metadata": {
        "id": "kl2CKvCag_q3"
      },
      "execution_count": null,
      "outputs": []
    },
    {
      "cell_type": "code",
      "source": [
        "def show_Chuyen_doi_logarit():\n",
        "    fig = plt.figure(figsize=(10, 5))\n",
        "    ax1, ax2 = fig.subplots(1, 2)\n",
        "    img = cv.imread('log.tif')\n",
        "    ax1.imshow(img, cmap='gray')\n",
        "    ax1.set_title(\"Ảnh gốc\")\n",
        "\n",
        "    y = Chuyen_doi_logarit(img, 0.1 )\n",
        "    ax2.imshow(y, cmap='gray')\n",
        "    ax2.set_title(\"Chuyển đổi bằng hàm Logarit\")\n",
        "    plt.show()\n"
      ],
      "metadata": {
        "id": "8VV-uEVPhlRt"
      },
      "execution_count": null,
      "outputs": []
    },
    {
      "cell_type": "code",
      "source": [
        "if __name__ == '__main__':\n",
        "    show_Chuyen_doi_logarit()"
      ],
      "metadata": {
        "id": "gNFMBDTjhv37"
      },
      "execution_count": null,
      "outputs": []
    },
    {
      "cell_type": "markdown",
      "source": [
        "#3.  Dùng hàm Gamma"
      ],
      "metadata": {
        "id": "OQmu6yArk47N"
      }
    },
    {
      "cell_type": "code",
      "source": [
        "def Chuyen_Doi_Gamma(img, gamma, c):\n",
        "    return float(c) * pow(img, float(gamma))"
      ],
      "metadata": {
        "id": "Zj8j7LBKk7nX"
      },
      "execution_count": null,
      "outputs": []
    },
    {
      "cell_type": "code",
      "source": [
        "def show_Chuyen_Doi_Gamma():\n",
        "    fig = plt.figure(figsize=(16, 9))\n",
        "    (ax1, ax2), (ax3, ax4) = fig.subplots(2, 2)\n",
        "    img = cv.imread('sanbay.tif',0)\n",
        "    ax1.imshow(img, cmap='gray')\n",
        "    ax1.set_title(\"ảnh gốc\")\n",
        "\n",
        "    y1 = Chuyen_Doi_Gamma(img, 3.0, 1.0)\n",
        "    ax2.imshow(y1, cmap='gray')\n",
        "    ax2.set_title(\"gamma=3\")\n",
        "\n",
        "    y2 = Chuyen_Doi_Gamma(img, 4.0, 1.0)\n",
        "    ax3.imshow(y2, cmap='gray')\n",
        "    ax3.set_title(\"gamma=4\")\n",
        "\n",
        "    y3 = Chuyen_Doi_Gamma(img, 5.0, 1.0)\n",
        "    ax4.imshow(y3, cmap='gray')\n",
        "    ax4.set_title(\"gamma=5\")\n",
        "    plt.show()"
      ],
      "metadata": {
        "id": "p4epHesHlFF9"
      },
      "execution_count": null,
      "outputs": []
    },
    {
      "cell_type": "code",
      "source": [
        "if __name__ == '__main__':\n",
        "    show_Chuyen_Doi_Gamma()"
      ],
      "metadata": {
        "id": "hrYZasoelRJ8"
      },
      "execution_count": null,
      "outputs": []
    },
    {
      "cell_type": "markdown",
      "source": [
        "# 4. Threshold"
      ],
      "metadata": {
        "id": "GqjFJ73a6HUj"
      }
    },
    {
      "cell_type": "code",
      "source": [
        "\n",
        "def threshold(img, th):\n",
        "    return img > th"
      ],
      "metadata": {
        "id": "SnTkEe056HHE"
      },
      "execution_count": null,
      "outputs": []
    },
    {
      "cell_type": "code",
      "source": [
        "def show_threshold():\n",
        "    fig = plt.figure(figsize=(16, 9))\n",
        "    ax1, ax2 = fig.subplots(1, 2)\n",
        "\n",
        "    img = cv.imread('keodan_dau.tif',0)\n",
        "    ax1.imshow(img,cmap='gray')\n",
        "    ax1.set_title(\"ảnh gốc\")\n",
        "\n",
        "    y = threshold(img, th=100)\n",
        "    ax2.imshow(y, cmap='gray')\n",
        "    ax2.set_title(\"ảnh sau khi threshold\")\n",
        "    plt.show()"
      ],
      "metadata": {
        "id": "X8wmGDUH6TL0"
      },
      "execution_count": null,
      "outputs": []
    },
    {
      "cell_type": "code",
      "source": [
        "if __name__ == '__main__':\n",
        "    show_threshold()"
      ],
      "metadata": {
        "id": "aQVkmEyl6iHf"
      },
      "execution_count": null,
      "outputs": []
    },
    {
      "cell_type": "markdown",
      "source": [
        "# 5.  Cân bằng Histogram"
      ],
      "metadata": {
        "id": "UYBfCzZHJTTS"
      }
    },
    {
      "cell_type": "markdown",
      "source": [
        "# a. Ảnh tối"
      ],
      "metadata": {
        "id": "NhPXpa-xvalr"
      }
    },
    {
      "cell_type": "code",
      "source": [
        "import cv2\n",
        "import matplotlib.pyplot as plt\n",
        "\n",
        "img = cv2.imread('dark image.tif',0) # mở file ảnh\n",
        "\n",
        "\n",
        "img_equalized = cv2.equalizeHist(img) # cân bằng hist cho ảnh img\n"
      ],
      "metadata": {
        "id": "3oTaCgO6QClL"
      },
      "execution_count": null,
      "outputs": []
    },
    {
      "cell_type": "code",
      "source": [
        "fig = plt.figure(figsize=(16, 9))#Tạo vùng vẽ tỷ lệ 16:9\n",
        "(ax1, ax2), (ax3,ax4) = fig.subplots(2, 2)#Tạo 4 vùng vẽ con, 2 cột 2 hàng\n",
        "\n",
        "# Vẽ dark image trong vùng ax1\n",
        "ax1.imshow(img, cmap='gray')\n",
        "ax1.set_title(\"Dark image\")\n",
        "\n",
        "# Vẽ hist của dark image trong vùng ax2\n",
        "ax2.hist(img)\n",
        "ax2.set_title(\"Histogram dark image\")\n",
        "\n",
        "# Vẽ ảnh sau khi cân bằng Hist trong vùng ax3\n",
        "ax3.imshow(img_equalized, cmap='gray')\n",
        "ax3.set_title(\"ảnh cân bằng histogram\")\n",
        "\n",
        "# Vẽ hist của ảnh cân bằng hist trong vùng ax4\n",
        "ax4.hist(img_equalized)\n",
        "ax4.set_title(\"Histogram ảnh cân bằng\")\n",
        "\n",
        "plt.show() # Hiển thị vùng vẽ"
      ],
      "metadata": {
        "id": "34r6LjCjMrxG"
      },
      "execution_count": null,
      "outputs": []
    },
    {
      "cell_type": "markdown",
      "source": [
        "# b.  Ảnh sáng"
      ],
      "metadata": {
        "id": "LdvZWp60vfr8"
      }
    },
    {
      "cell_type": "code",
      "source": [
        "import cv2\n",
        "import matplotlib.pyplot as plt\n",
        "\n",
        "img = cv2.imread('bright image.tif',0) # mở file ảnh\n",
        "\n",
        "\n",
        "img_equalized = cv2.equalizeHist(img) # cân bằng hist cho ảnh img"
      ],
      "metadata": {
        "id": "gagENJL1vZjF"
      },
      "execution_count": null,
      "outputs": []
    },
    {
      "cell_type": "code",
      "source": [
        "fig = plt.figure(figsize=(16, 9))#Tạo vùng vẽ tỷ lệ 16:9\n",
        "(ax1, ax2), (ax3,ax4) = fig.subplots(2, 2)#Tạo 4 vùng vẽ con, 2 cột 2 hàng\n",
        "\n",
        "# Vẽ  bright image trong vùng ax1\n",
        "ax1.imshow(img, cmap='gray')\n",
        "ax1.set_title(\"Bright image\")\n",
        "\n",
        "# Vẽ hist của bright image trong vùng ax2\n",
        "ax2.hist(img)\n",
        "ax2.set_title(\"Histogram bright image\")\n",
        "\n",
        "# Vẽ ảnh sau khi cân bằng Hist trong vùng ax3\n",
        "ax3.imshow(img_equalized, cmap='gray')\n",
        "ax3.set_title(\"ảnh cân bằng histogram\")\n",
        "\n",
        "# Vẽ hist của ảnh cân bằng hist trong vùng ax4\n",
        "ax4.hist(img_equalized)\n",
        "ax4.set_title(\"Histogram ảnh cân bằng\")\n",
        "\n",
        "plt.show() # Hiển thị vùng vẽ"
      ],
      "metadata": {
        "id": "pGtGaUyXvmlf"
      },
      "execution_count": null,
      "outputs": []
    },
    {
      "cell_type": "markdown",
      "source": [
        "# c.  Ảnh có độ tương phản thấp"
      ],
      "metadata": {
        "id": "DZlcm2LlwGyP"
      }
    },
    {
      "cell_type": "code",
      "source": [
        "import cv2\n",
        "import matplotlib.pyplot as plt\n",
        "\n",
        "img = cv2.imread('low contrast image.tif',0) # mở file ảnh\n",
        "\n",
        "\n",
        "img_equalized = cv2.equalizeHist(img) # cân bằng hist cho ảnh img"
      ],
      "metadata": {
        "id": "83zizmSpwJpp"
      },
      "execution_count": null,
      "outputs": []
    },
    {
      "cell_type": "code",
      "source": [
        "fig = plt.figure(figsize=(16, 9))#Tạo vùng vẽ tỷ lệ 16:9\n",
        "(ax1, ax2), (ax3,ax4) = fig.subplots(2, 2)#Tạo 4 vùng vẽ con, 2 cột 2 hàng\n",
        "\n",
        "# Vẽ  low contrast image trong vùng ax1\n",
        "ax1.imshow(img, cmap='gray')\n",
        "ax1.set_title(\" Low contrast  image\")\n",
        "\n",
        "# Vẽ hist của low contrast  image trong vùng ax2\n",
        "ax2.hist(img)\n",
        "ax2.set_title(\"Histogram  low contrast  image\")\n",
        "\n",
        "# Vẽ ảnh sau khi cân bằng Hist trong vùng ax3\n",
        "ax3.imshow(img_equalized, cmap='gray')\n",
        "ax3.set_title(\"ảnh cân bằng histogram\")\n",
        "\n",
        "# Vẽ hist của ảnh cân bằng hist trong vùng ax4\n",
        "ax4.hist(img_equalized)\n",
        "ax4.set_title(\"Histogram ảnh cân bằng\")\n",
        "\n",
        "plt.show() # Hiển thị vùng vẽ"
      ],
      "metadata": {
        "id": "ZCujXWsuwJv7"
      },
      "execution_count": null,
      "outputs": []
    },
    {
      "cell_type": "markdown",
      "source": [
        "# III. CÁC KĨ THUẬT LỌC ẢNH, LÀM MỜ, LÀM MỊN ẢNH"
      ],
      "metadata": {
        "id": "szsH25VPsHvf"
      }
    },
    {
      "cell_type": "markdown",
      "source": [
        "# 1. Bộ lọc trung bình (box filter)"
      ],
      "metadata": {
        "id": "ZzqEaUElsNbG"
      }
    },
    {
      "cell_type": "code",
      "source": [
        "import cv2     # Thư viện OpenCV\n",
        "import numpy as np   # Thư viện numy để làm việc dữ liệu kiểu mảng\n",
        "import matplotlib.pyplot as plt # import thư viện matplotlib để vẽ ảnh\n"
      ],
      "metadata": {
        "id": "NeBwIYDPs7hE"
      },
      "execution_count": null,
      "outputs": []
    },
    {
      "cell_type": "code",
      "source": [
        "# Định nghĩa hàm Tich_chap() để lọc Trung bình, Trung bình có trọng số và lọc Gaussian\n",
        "def Tich_chap(img,mask):\n",
        "    m, n = img.shape\n",
        "    img_new = np.zeros([m, n])\n",
        "    for i in range(1, m-1):\n",
        "        for j in range(1, n-1):\n",
        "            temp   =  img[i-1, j-1]    * mask[0, 0]\\\n",
        "                   +  img[i-1, j]      * mask[0, 1]\\\n",
        "                   +  img[i-1, j + 1]  * mask[0, 2]\\\n",
        "                   +  img[i, j-1]      * mask[1, 0]\\\n",
        "                   +  img[i, j]        * mask[1, 1]\\\n",
        "                   +  img[i, j + 1]    * mask[1, 2]\\\n",
        "                   +  img[i + 1, j-1]  * mask[2, 0]\\\n",
        "                   +  img[i + 1, j]    * mask[2, 1]\\\n",
        "                   +  img[i + 1, j + 1]* mask[2, 2]\n",
        "            img_new[i, j]= temp\n",
        "    img_new = img_new.astype(np.uint8)\n",
        "    return img_new"
      ],
      "metadata": {
        "id": "BqFeBC8EtMls"
      },
      "execution_count": null,
      "outputs": []
    },
    {
      "cell_type": "code",
      "source": [
        "# Định nghĩa bộ lọc trung bình\n",
        "locTB3x3 = np.array(([1/9, 1/9, 1/9],\n",
        "                     [1/9, 1/9, 1/9],\n",
        "                     [1/9, 1/9, 1/9]), dtype=\"float\")\n"
      ],
      "metadata": {
        "id": "3s7Et_IqtRqY"
      },
      "execution_count": null,
      "outputs": []
    },
    {
      "cell_type": "code",
      "source": [
        "fig = plt.figure(figsize=(16, 9)) # Tạo vùng vẽ tỷ lệ 16:9\n",
        "(ax1, ax2)= fig.subplots(1, 2) # Tạo 6 vùng vẽ con\n",
        "\n",
        "# Đọc và hiển thị ảnh gốc\n",
        "image = cv2.imread('test2.tif', 0)\n",
        "ax1.imshow(image, cmap='gray')\n",
        "ax1.set_title(\"Ảnh gốc\")\n",
        "\n",
        "# Lọc TB và hiển thị ảnh\n",
        "imgTB3x3 = Tich_chap(image, locTB3x3) #Gọi hàm lọc\n",
        "ax2.imshow(imgTB3x3, cmap='gray')\n",
        "ax2.set_title(\"Ảnh lọc Trung bình 3x3\")"
      ],
      "metadata": {
        "id": "aBbxn2x3tVi1"
      },
      "execution_count": null,
      "outputs": []
    },
    {
      "cell_type": "markdown",
      "source": [
        "# 2. Bộ lọc trung bình có trọng số"
      ],
      "metadata": {
        "id": "s-1RkAsYuwVy"
      }
    },
    {
      "cell_type": "code",
      "source": [
        "import cv2     # Thư viện OpenCV\n",
        "import numpy as np   # Thư viện numy để làm việc dữ liệu kiểu mảng\n",
        "import matplotlib.pyplot as plt # import thư viện matplotlib để vẽ ảnh\n",
        "\n",
        "# Định nghĩa hàm Tich_chap() để lọc Trung bình, Trung bình có trọng số và lọc Gaussian\n",
        "def Tich_chap(img,mask):\n",
        "    m, n = img.shape\n",
        "    img_new = np.zeros([m, n])\n",
        "    for i in range(1, m-1):\n",
        "        for j in range(1, n-1):\n",
        "            temp   =  img[i-1, j-1]    * mask[0, 0]\\\n",
        "                   +  img[i-1, j]      * mask[0, 1]\\\n",
        "                   +  img[i-1, j + 1]  * mask[0, 2]\\\n",
        "                   +  img[i, j-1]      * mask[1, 0]\\\n",
        "                   +  img[i, j]        * mask[1, 1]\\\n",
        "                   +  img[i, j + 1]    * mask[1, 2]\\\n",
        "                   +  img[i + 1, j-1]  * mask[2, 0]\\\n",
        "                   +  img[i + 1, j]    * mask[2, 1]\\\n",
        "                   +  img[i + 1, j + 1]* mask[2, 2]\n",
        "            img_new[i, j]= temp\n",
        "    img_new = img_new.astype(np.uint8)\n",
        "    return img_new"
      ],
      "metadata": {
        "id": "jvsL3puguoqB"
      },
      "execution_count": null,
      "outputs": []
    },
    {
      "cell_type": "code",
      "source": [
        "# Định nghĩa bộ lọc trung bình có trọng số\n",
        "locTB3x3_trong_so = np.array(([1/16, 2/16, 1/16],\n",
        "                              [2/16, 4/16, 2/16],\n",
        "                              [1/16, 2/16, 1/16]), dtype=\"float\")"
      ],
      "metadata": {
        "id": "9hTLq5Axu40z"
      },
      "execution_count": null,
      "outputs": []
    },
    {
      "cell_type": "code",
      "source": [
        "fig = plt.figure(figsize=(16, 9)) # Tạo vùng vẽ tỷ lệ 16:9\n",
        "(ax1, ax2)= fig.subplots(1, 2) # Tạo 6 vùng vẽ con\n",
        "\n",
        "# Đọc và hiển thị ảnh gốc\n",
        "image = cv2.imread('test2.tif', 0)\n",
        "ax1.imshow(image, cmap='gray')\n",
        "ax1.set_title(\"Ảnh gốc\")\n",
        "# Lọc TB có trọng số và hiển thị ảnh\n",
        "imgTB_TS_3x3 = Tich_chap(image, locTB3x3_trong_so) #Gọi hàm lọc\n",
        "ax2.imshow(imgTB_TS_3x3, cmap='gray')\n",
        "ax2.set_title(\"Ảnh lọc Trung bình có trọng số 3x3\")"
      ],
      "metadata": {
        "id": "0NDK7vdYvDQk"
      },
      "execution_count": null,
      "outputs": []
    },
    {
      "cell_type": "markdown",
      "source": [
        "# 3. Lọc trung vị"
      ],
      "metadata": {
        "id": "xCnumDZVvWvI"
      }
    },
    {
      "cell_type": "code",
      "source": [
        "import cv2     # Thư viện OpenCV\n",
        "import numpy as np   # Thư viện numy để làm việc dữ liệu kiểu mảng\n",
        "import matplotlib.pyplot as plt # import thư viện matplotlib để vẽ ảnh\n",
        "\n"
      ],
      "metadata": {
        "id": "xv7m9JxmvaGu"
      },
      "execution_count": null,
      "outputs": []
    },
    {
      "cell_type": "code",
      "source": [
        "# Định nghĩa hàm lọc trung vị\n",
        "def loc_trung_vi(img):\n",
        "    m, n = img.shape\n",
        "    img_new = np.zeros([m, n])\n",
        "    for i in range(1, m - 1):\n",
        "        for j in range(1, n - 1):\n",
        "            temp = [img[i - 1, j - 1],\n",
        "                    img[i - 1, j],\n",
        "                    img[i - 1, j + 1],\n",
        "                    img[i, j - 1],\n",
        "                    img[i, j],\n",
        "                    img[i, j + 1],\n",
        "                    img[i + 1, j - 1],\n",
        "                    img[i + 1, j],\n",
        "                    img[i + 1, j + 1]]\n",
        "\n",
        "            temp = sorted(temp)\n",
        "            img_new[i, j] = temp[4]\n",
        "    return img_new\n"
      ],
      "metadata": {
        "id": "jZq3A_r5vmzi"
      },
      "execution_count": null,
      "outputs": []
    },
    {
      "cell_type": "code",
      "source": [
        "fig = plt.figure(figsize=(16, 9)) # Tạo vùng vẽ tỷ lệ 16:9\n",
        "(ax1, ax2)= fig.subplots(1, 2) # Tạo 6 vùng vẽ con\n",
        "# Đọc và hiển thị ảnh gốc\n",
        "image = cv2.imread('test2.tif', 0)\n",
        "ax1.imshow(image, cmap='gray')\n",
        "ax1.set_title(\"Ảnh gốc\")\n",
        "# Lọc Trung vị và hiển thị ảnh\n",
        "imgTV_3x3 = loc_trung_vi(image) #Gọi hàm lọc\n",
        "ax2.imshow(imgTV_3x3, cmap='gray')\n",
        "ax2.set_title(\"Ảnh lọc Trung vị 3x3\")\n",
        "\n",
        "\n",
        "# Hiển thị vùng vẽ\n",
        "plt.show()"
      ],
      "metadata": {
        "id": "9GwUZ2-jvyqe"
      },
      "execution_count": null,
      "outputs": []
    },
    {
      "cell_type": "markdown",
      "source": [
        "# 4. Lọc Gaussian"
      ],
      "metadata": {
        "id": "umrNCeeRwTrS"
      }
    },
    {
      "cell_type": "code",
      "source": [
        "import cv2     # Thư viện OpenCV\n",
        "import numpy as np   # Thư viện numy để làm việc dữ liệu kiểu mảng\n",
        "import matplotlib.pyplot as plt # import thư viện matplotlib để vẽ ảnh\n",
        "\n",
        "# Định nghĩa hàm Tich_chap() để lọc Trung bình, Trung bình có trọng số và lọc Gaussian\n",
        "def Tich_chap(img,mask):\n",
        "    m, n = img.shape\n",
        "    img_new = np.zeros([m, n])\n",
        "    for i in range(1, m-1):\n",
        "        for j in range(1, n-1):\n",
        "            temp   =  img[i-1, j-1]    * mask[0, 0]\\\n",
        "                   +  img[i-1, j]      * mask[0, 1]\\\n",
        "                   +  img[i-1, j + 1]  * mask[0, 2]\\\n",
        "                   +  img[i, j-1]      * mask[1, 0]\\\n",
        "                   +  img[i, j]        * mask[1, 1]\\\n",
        "                   +  img[i, j + 1]    * mask[1, 2]\\\n",
        "                   +  img[i + 1, j-1]  * mask[2, 0]\\\n",
        "                   +  img[i + 1, j]    * mask[2, 1]\\\n",
        "                   +  img[i + 1, j + 1]* mask[2, 2]\n",
        "            img_new[i, j]= temp\n",
        "    img_new = img_new.astype(np.uint8)\n",
        "    return img_new"
      ],
      "metadata": {
        "id": "ovMBkp8ywiIG"
      },
      "execution_count": null,
      "outputs": []
    },
    {
      "cell_type": "code",
      "source": [
        "# Định nghĩa bộ lọc Gaussian\n",
        "locGaussian3x3 = np.array(([0.0751/4.8976, 0.1238/4.8976, 0.0751/4.8976],\n",
        "                           [0.1238/4.8976, 0.2042/4.8976, 0.1238/4.8976],\n",
        "                           [0.0751/4.8976, 0.1238/4.8976, 0.0751/4.8976]), dtype=\"float\")\n"
      ],
      "metadata": {
        "id": "0SQ6T4VUwn7u"
      },
      "execution_count": null,
      "outputs": []
    },
    {
      "cell_type": "code",
      "source": [
        "fig = plt.figure(figsize=(16, 9)) # Tạo vùng vẽ tỷ lệ 16:9\n",
        "(ax1, ax2)= fig.subplots(1, 2) # Tạo 6 vùng vẽ con\n",
        "# Đọc và hiển thị ảnh gốc\n",
        "image = cv2.imread('test2.tif', 0)\n",
        "ax1.imshow(image, cmap='gray')\n",
        "ax1.set_title(\"Ảnh gốc\")\n",
        "# Lọc Gaussian và hiển thị ảnh\n",
        "imgGaussian_3x3 = Tich_chap(image, locGaussian3x3) #Gọi hàm lọc\n",
        "ax2.imshow(imgGaussian_3x3, cmap='gray')\n",
        "ax2.set_title(\"Ảnh lọc Gaussian 3x3\")"
      ],
      "metadata": {
        "id": "qCRrypC4wqOJ"
      },
      "execution_count": null,
      "outputs": []
    }
  ]
}